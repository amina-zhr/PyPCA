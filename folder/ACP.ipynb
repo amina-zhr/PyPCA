{
 "cells": [
  {
   "cell_type": "markdown",
   "id": "9753f47a",
   "metadata": {},
   "source": [
    "# Bibliothèques"
   ]
  },
  {
   "cell_type": "code",
   "execution_count": 119,
   "id": "8697e938",
   "metadata": {},
   "outputs": [],
   "source": [
    "import numpy as np\n",
    "import pandas as pd\n",
    "import seaborn as sns\n",
    "from sklearn.decomposition import PCA\n",
    "from sklearn.preprocessing import StandardScaler\n",
    "import matplotlib.pyplot as plt\n",
    "import plotly.express as px"
   ]
  },
  {
   "cell_type": "code",
   "execution_count": 117,
   "id": "e638e68b",
   "metadata": {},
   "outputs": [
    {
     "data": {
      "text/html": [
       "<div>\n",
       "<style scoped>\n",
       "    .dataframe tbody tr th:only-of-type {\n",
       "        vertical-align: middle;\n",
       "    }\n",
       "\n",
       "    .dataframe tbody tr th {\n",
       "        vertical-align: top;\n",
       "    }\n",
       "\n",
       "    .dataframe thead th {\n",
       "        text-align: right;\n",
       "    }\n",
       "</style>\n",
       "<table border=\"1\" class=\"dataframe\">\n",
       "  <thead>\n",
       "    <tr style=\"text-align: right;\">\n",
       "      <th></th>\n",
       "      <th>Murder</th>\n",
       "      <th>Assault</th>\n",
       "      <th>UrbanPop</th>\n",
       "      <th>Rape</th>\n",
       "    </tr>\n",
       "  </thead>\n",
       "  <tbody>\n",
       "    <tr>\n",
       "      <th>Alabama</th>\n",
       "      <td>13.2</td>\n",
       "      <td>236</td>\n",
       "      <td>58</td>\n",
       "      <td>21.2</td>\n",
       "    </tr>\n",
       "    <tr>\n",
       "      <th>Alaska</th>\n",
       "      <td>10.0</td>\n",
       "      <td>263</td>\n",
       "      <td>48</td>\n",
       "      <td>44.5</td>\n",
       "    </tr>\n",
       "    <tr>\n",
       "      <th>Arizona</th>\n",
       "      <td>8.1</td>\n",
       "      <td>294</td>\n",
       "      <td>80</td>\n",
       "      <td>31.0</td>\n",
       "    </tr>\n",
       "    <tr>\n",
       "      <th>Arkansas</th>\n",
       "      <td>8.8</td>\n",
       "      <td>190</td>\n",
       "      <td>50</td>\n",
       "      <td>19.5</td>\n",
       "    </tr>\n",
       "    <tr>\n",
       "      <th>California</th>\n",
       "      <td>9.0</td>\n",
       "      <td>276</td>\n",
       "      <td>91</td>\n",
       "      <td>40.6</td>\n",
       "    </tr>\n",
       "    <tr>\n",
       "      <th>Colorado</th>\n",
       "      <td>7.9</td>\n",
       "      <td>204</td>\n",
       "      <td>78</td>\n",
       "      <td>38.7</td>\n",
       "    </tr>\n",
       "    <tr>\n",
       "      <th>Connecticut</th>\n",
       "      <td>3.3</td>\n",
       "      <td>110</td>\n",
       "      <td>77</td>\n",
       "      <td>11.1</td>\n",
       "    </tr>\n",
       "    <tr>\n",
       "      <th>Delaware</th>\n",
       "      <td>5.9</td>\n",
       "      <td>238</td>\n",
       "      <td>72</td>\n",
       "      <td>15.8</td>\n",
       "    </tr>\n",
       "    <tr>\n",
       "      <th>Florida</th>\n",
       "      <td>15.4</td>\n",
       "      <td>335</td>\n",
       "      <td>80</td>\n",
       "      <td>31.9</td>\n",
       "    </tr>\n",
       "    <tr>\n",
       "      <th>Georgia</th>\n",
       "      <td>17.4</td>\n",
       "      <td>211</td>\n",
       "      <td>60</td>\n",
       "      <td>25.8</td>\n",
       "    </tr>\n",
       "  </tbody>\n",
       "</table>\n",
       "</div>"
      ],
      "text/plain": [
       "             Murder  Assault  UrbanPop  Rape\n",
       "Alabama        13.2      236        58  21.2\n",
       "Alaska         10.0      263        48  44.5\n",
       "Arizona         8.1      294        80  31.0\n",
       "Arkansas        8.8      190        50  19.5\n",
       "California      9.0      276        91  40.6\n",
       "Colorado        7.9      204        78  38.7\n",
       "Connecticut     3.3      110        77  11.1\n",
       "Delaware        5.9      238        72  15.8\n",
       "Florida        15.4      335        80  31.9\n",
       "Georgia        17.4      211        60  25.8"
      ]
     },
     "execution_count": 117,
     "metadata": {},
     "output_type": "execute_result"
    }
   ],
   "source": [
    "data=pd.read_csv(\"./dataset-90380.csv\")\n",
    "data.head(10)"
   ]
  },
  {
   "cell_type": "code",
   "execution_count": 118,
   "id": "da606f26",
   "metadata": {
    "scrolled": false
   },
   "outputs": [
    {
     "data": {
      "text/html": [
       "<div>\n",
       "<style scoped>\n",
       "    .dataframe tbody tr th:only-of-type {\n",
       "        vertical-align: middle;\n",
       "    }\n",
       "\n",
       "    .dataframe tbody tr th {\n",
       "        vertical-align: top;\n",
       "    }\n",
       "\n",
       "    .dataframe thead th {\n",
       "        text-align: right;\n",
       "    }\n",
       "</style>\n",
       "<table border=\"1\" class=\"dataframe\">\n",
       "  <thead>\n",
       "    <tr style=\"text-align: right;\">\n",
       "      <th></th>\n",
       "      <th>count</th>\n",
       "      <th>mean</th>\n",
       "      <th>std</th>\n",
       "      <th>min</th>\n",
       "      <th>25%</th>\n",
       "      <th>50%</th>\n",
       "      <th>75%</th>\n",
       "      <th>max</th>\n",
       "    </tr>\n",
       "  </thead>\n",
       "  <tbody>\n",
       "    <tr>\n",
       "      <th>Murder</th>\n",
       "      <td>50.0</td>\n",
       "      <td>7.788</td>\n",
       "      <td>4.355510</td>\n",
       "      <td>0.8</td>\n",
       "      <td>4.075</td>\n",
       "      <td>7.25</td>\n",
       "      <td>11.250</td>\n",
       "      <td>17.4</td>\n",
       "    </tr>\n",
       "    <tr>\n",
       "      <th>Assault</th>\n",
       "      <td>50.0</td>\n",
       "      <td>170.760</td>\n",
       "      <td>83.337661</td>\n",
       "      <td>45.0</td>\n",
       "      <td>109.000</td>\n",
       "      <td>159.00</td>\n",
       "      <td>249.000</td>\n",
       "      <td>337.0</td>\n",
       "    </tr>\n",
       "    <tr>\n",
       "      <th>UrbanPop</th>\n",
       "      <td>50.0</td>\n",
       "      <td>65.540</td>\n",
       "      <td>14.474763</td>\n",
       "      <td>32.0</td>\n",
       "      <td>54.500</td>\n",
       "      <td>66.00</td>\n",
       "      <td>77.750</td>\n",
       "      <td>91.0</td>\n",
       "    </tr>\n",
       "    <tr>\n",
       "      <th>Rape</th>\n",
       "      <td>50.0</td>\n",
       "      <td>21.232</td>\n",
       "      <td>9.366385</td>\n",
       "      <td>7.3</td>\n",
       "      <td>15.075</td>\n",
       "      <td>20.10</td>\n",
       "      <td>26.175</td>\n",
       "      <td>46.0</td>\n",
       "    </tr>\n",
       "  </tbody>\n",
       "</table>\n",
       "</div>"
      ],
      "text/plain": [
       "          count     mean        std   min      25%     50%      75%    max\n",
       "Murder     50.0    7.788   4.355510   0.8    4.075    7.25   11.250   17.4\n",
       "Assault    50.0  170.760  83.337661  45.0  109.000  159.00  249.000  337.0\n",
       "UrbanPop   50.0   65.540  14.474763  32.0   54.500   66.00   77.750   91.0\n",
       "Rape       50.0   21.232   9.366385   7.3   15.075   20.10   26.175   46.0"
      ]
     },
     "execution_count": 118,
     "metadata": {},
     "output_type": "execute_result"
    }
   ],
   "source": [
    "data.describe().T"
   ]
  },
  {
   "cell_type": "markdown",
   "id": "3fa4f554",
   "metadata": {},
   "source": [
    "# Implémentation de l'ACP"
   ]
  },
  {
   "cell_type": "code",
   "execution_count": 100,
   "id": "66423c24",
   "metadata": {},
   "outputs": [],
   "source": [
    "class ACP:\n",
    "    def __init__(self,reduit_a=2):\n",
    "        self.columns=None\n",
    "        self.n=None\n",
    "        self.p=None\n",
    "        self.reduit_a=reduit_a\n",
    "        self.inertie_cumulee=None\n",
    "        self.inertie=None\n",
    "        self.inertie_expliquee=None\n",
    "        self.R=None\n",
    "        self.composantes_principales=None\n",
    "        self.correlations_Xi_Cj=None\n",
    "        \n",
    "    # Centrer et réduire les données        \n",
    "    def __Standardisation(self, df):\n",
    "        df=(df-df.mean())/df.std()\n",
    "        return df\n",
    "    \n",
    "    #  Calcul des composantes principales   \n",
    "    def fit_transform(self, df):\n",
    "        self.columns = df.columns\n",
    "        self.n, self.p = df.shape\n",
    "        df=self.__Standardisation(df)\n",
    "        matrice=np.array(df)\n",
    "        self.R=(1/len(matrice))*np.dot(np.transpose(matrice),matrice)\n",
    "        self.inertie, vecteurs_propres = np.linalg.eig(self.R)\n",
    "        self.inertie = self.inertie[:self.reduit_a]\n",
    "        self.inertie_expliquee = self.inertie / self.p\n",
    "        self.inertie_cumulee = np.sum(self.inertie_expliquee)\n",
    "        self.composantes_principales=np.dot(matrice, vecteurs_propres[:, :self.reduit_a])\n",
    "        self.correlations_Xi_Cj = vecteurs_propres[:, :self.reduit_a]*np.sqrt(self.inertie)\n",
    "        return self.composantes_principales\n",
    "    \n",
    "    # Calcul de la qualité de représentation de l'individu i par rapport à l'axe factoriel Fj\n",
    "    def QLTj_indi(self, i=None, j=None):\n",
    "        return (self.composantes_principales[i-1, j-1]**2)/(np.linalg.norm(matrice[i-1])**2)\n",
    "    \n",
    "    # Calcul de la qualité de représentation de la variable Xi par rapport à l'axe factoriel Fj\n",
    "    def QLTj_Xi(self, i=None, j=None):\n",
    "        return self.correlations_Xi_Cj[i-1, j-1]**2\n",
    "    \n",
    "    # Calcul de la Contribution de l'individu i à la formation de l'axe factoriel Fj\n",
    "    def CTRj_i(self, i=None, j=None):\n",
    "        return (1/self.n)*self.composantes_principales[i-1, j-1]**2/self.inertie[j-1]\n",
    "    \n",
    "    def cercle_corr(self):\n",
    "        fig, ax = plt.subplots()\n",
    "        \n",
    "        cercle = plt.Circle((0, 0), 1, fill=False, color='black', linestyle='dotted')\n",
    "        ax.add_patch(cercle)\n",
    "        \n",
    "        for i in range(self.p):\n",
    "            ax.arrow(0, 0, self.correlations_Xi_Cj[i, 0], self.correlations_Xi_Cj[i, 1], color='r')\n",
    "            ax.text(self.correlations_Xi_Cj[i, 0]+.1, self.correlations_Xi_Cj[i, 1]+.1, self.columns[i], color='b')\n",
    "        \n",
    "        ax.set_xlim(-1.5, 1.5)\n",
    "        ax.set_ylim(-1.5, 1.5)\n",
    "        ax.set_aspect('equal', 'box')\n",
    "        \n",
    "        plt.title(\"Cercle de Corrélation - ACP\")\n",
    "        plt.xlabel(\"F1\")\n",
    "        plt.ylabel(\"F2\")\n",
    "        plt.grid(True)\n",
    "        plt.show()"
   ]
  },
  {
   "cell_type": "code",
   "execution_count": 140,
   "id": "e4f07e45",
   "metadata": {
    "scrolled": true
   },
   "outputs": [
    {
     "data": {
      "text/plain": [
       "array([[ 9.75660448e-01,  1.12200121e+00,  1.54696581e-01],\n",
       "       [ 1.93053788e+00,  1.06242692e+00, -4.34175454e-01],\n",
       "       [ 1.74544285e+00, -7.38459537e-01, -8.26264240e-01],\n",
       "       [-1.39998944e-01,  1.10854226e+00, -1.80973554e-01],\n",
       "       [ 2.49861285e+00, -1.52742672e+00, -3.38559240e-01],\n",
       "       [ 1.49934074e+00, -9.77629657e-01,  1.45016417e-03],\n",
       "       [-1.34499236e+00, -1.07798362e+00, -1.17278736e-01],\n",
       "       [ 4.72298063e-02, -3.22088903e-01, -8.73113315e-01],\n",
       "       [ 2.98275967e+00,  3.88342469e-02, -9.53170415e-02],\n",
       "       [ 1.62280742e+00,  1.26608838e+00,  1.06597446e+00],\n",
       "       [-9.03484479e-01, -1.55467609e+00,  8.93733198e-01],\n",
       "       [-1.62331903e+00,  2.08852533e-01, -4.94087852e-01],\n",
       "       [ 1.36505197e+00, -6.74988340e-01, -1.20794916e-01],\n",
       "       [-5.00381218e-01, -1.50039262e-01,  4.20397595e-01],\n",
       "       [-2.23099579e+00, -1.03008276e-01,  1.73794699e-02],\n",
       "       [-7.88872062e-01, -2.67449413e-01,  2.04421034e-01],\n",
       "       [-7.43312561e-01,  9.48807476e-01,  6.63817237e-01],\n",
       "       [ 1.54909076e+00,  8.62300115e-01,  4.50157791e-01],\n",
       "       [-2.37274014e+00,  3.72608650e-01, -3.27138529e-01],\n",
       "       [ 1.74564663e+00,  4.23357041e-01, -5.53450589e-01],\n",
       "       [-4.81280070e-01, -1.45967706e+00, -1.77793902e-01],\n",
       "       [ 2.08725025e+00, -1.53835002e-01,  1.01343128e-01],\n",
       "       [-1.67566951e+00, -6.25906705e-01,  6.66403162e-02],\n",
       "       [ 9.86479185e-01,  2.36973712e+00,  2.13342049e-01],\n",
       "       [ 6.89784264e-01, -2.60707941e-01,  2.23554811e-01],\n",
       "       [-1.17353751e+00,  5.31478512e-01,  1.22498555e-01],\n",
       "       [-1.25291625e+00, -1.92004396e-01,  1.57331562e-02],\n",
       "       [ 2.84550542e+00, -7.67805021e-01,  3.11354436e-01],\n",
       "       [-2.35995585e+00, -1.79005535e-02, -3.28042906e-02],\n",
       "       [ 1.79741278e-01, -1.43493745e+00,  2.40936580e-01],\n",
       "       [ 1.96012351e+00,  1.41413078e-01, -3.36121113e-01],\n",
       "       [ 1.66566662e+00, -8.14910725e-01, -1.33488442e-02],\n",
       "       [ 1.11208808e+00,  2.20561081e+00, -9.44789648e-01],\n",
       "       [-2.96215223e+00,  5.93097377e-01, -2.51434626e-01],\n",
       "       [-2.23694355e-01, -7.34778367e-01,  4.69152817e-01],\n",
       "       [-3.08649279e-01, -2.84961125e-01,  1.02284757e-02],\n",
       "       [ 5.85278700e-02, -5.35969995e-01, -2.35390872e-01],\n",
       "       [-8.79486795e-01, -5.65360505e-01,  3.55452378e-01],\n",
       "       [-8.55090717e-01, -1.47698328e+00, -6.07402746e-01],\n",
       "       [ 1.30744986e+00,  1.91397297e+00, -1.30145378e-01],\n",
       "       [-1.96779669e+00,  8.15068225e-01, -1.08470512e-01],\n",
       "       [ 9.89693774e-01,  8.51605343e-01,  6.46302674e-01],\n",
       "       [ 1.34151838e+00, -4.08335178e-01,  6.36731051e-01],\n",
       "       [-5.45031803e-01, -1.45671524e+00, -8.14867492e-02],\n",
       "       [-2.77325613e+00,  1.38819435e+00, -1.43433697e-01],\n",
       "       [-9.53666966e-02,  1.97727848e-01,  2.09246429e-01],\n",
       "       [-2.14723390e-01, -9.60373944e-01, -2.18628161e-01],\n",
       "       [-2.08739306e+00,  1.41052627e+00,  1.30583080e-01],\n",
       "       [-2.05881199e+00, -6.05125065e-01,  1.82253407e-01],\n",
       "       [-6.23100607e-01,  3.17786625e-01, -1.64976866e-01]])"
      ]
     },
     "execution_count": 140,
     "metadata": {},
     "output_type": "execute_result"
    }
   ],
   "source": [
    "acp2 = ACP(reduit_a=3)\n",
    "res = acp2.fit_transform(data)\n",
    "res"
   ]
  },
  {
   "cell_type": "code",
   "execution_count": 141,
   "id": "4b34dc32",
   "metadata": {},
   "outputs": [
    {
     "data": {
      "text/plain": [
       "0.892642020757697"
      ]
     },
     "execution_count": 141,
     "metadata": {},
     "output_type": "execute_result"
    }
   ],
   "source": [
    "acp2.inertie_cumulee"
   ]
  },
  {
   "cell_type": "code",
   "execution_count": 122,
   "id": "5a3b96b7",
   "metadata": {
    "scrolled": true
   },
   "outputs": [
    {
     "data": {
      "image/png": "[encoded data removed]",
      "text/plain": [
       "<Figure size 640x480 with 1 Axes>"
      ]
     },
     "metadata": {},
     "output_type": "display_data"
    }
   ],
   "source": [
    "acp2.cercle_corr()"
   ]
  },
  {
   "cell_type": "code",
   "execution_count": 127,
   "id": "dca18ca2",
   "metadata": {},
   "outputs": [],
   "source": [
    "df= pd.DataFrame(res, columns=[\"F1\", \"F2\", \"F3\"])"
   ]
  },
  {
   "cell_type": "code",
   "execution_count": 133,
   "id": "7a86eb33",
   "metadata": {
    "scrolled": false
   },
   "outputs": [
    {
     "data": {
      "image/png": "[encoded data removed]",
      "text/plain": [
       "<Figure size 600x600 with 3 Axes>"
      ]
     },
     "metadata": {},
     "output_type": "display_data"
    }
   ],
   "source": [
    "sns.jointplot(data=df,x=\"F1\",y=\"F2\");"
   ]
  },
  {
   "cell_type": "code",
   "execution_count": 134,
   "id": "8d8cf7b4",
   "metadata": {
    "scrolled": true
   },
   "outputs": [
    {
     "data": {
      "application/vnd.plotly.v1+json": {
       "config": {
        "plotlyServerURL": "https://plot.ly"
       },
       "data": [
        {
         "hovertemplate": "F1=%{x}<br>F2=%{y}<br>F3=%{z}<extra></extra>",
         "legendgroup": "",
         "marker": {
          "color": "#636efa",
          "symbol": "circle"
         },
         "mode": "markers",
         "name": "",
         "scene": "scene",
         "showlegend": false,
         "type": "scatter3d",
         "x": [
          0.975660448333606,
          1.930537878513684,
          1.745442853390599,
          -0.13999894434859428,
          2.4986128482585808,
          1.499340737465524,
          -1.3449923649468492,
          0.047229806346894665,
          2.9827596698505285,
          1.6228074182227474,
          -0.9034844794674848,
          -1.6233190333549077,
          1.3650519734476365,
          -0.5003812184673615,
          -2.230995785560024,
          -0.7888720624575064,
          -0.7433125605025745,
          1.5490907634214197,
          -2.3727401381114746,
          1.745646633314265,
          -0.48128007004107565,
          2.087250248902095,
          -1.6756695050968442,
          0.9864791853362929,
          0.6897842639943724,
          -1.1735375139692659,
          -1.2529162530451283,
          2.845505417984771,
          -2.3599558521098043,
          0.1797412783117736,
          1.9601235131682242,
          1.6656666217224794,
          1.1120880825676012,
          -2.9621522325069076,
          -0.22369435549765587,
          -0.30864927945471465,
          0.05852786998113052,
          -0.8794867951994906,
          -0.8550907170076971,
          1.3074498608537146,
          -1.9677966936869937,
          0.9896937743255939,
          1.3415183816678153,
          -0.545031802555006,
          -2.7732561335497175,
          -0.09536669660002126,
          -0.2147233898343467,
          -2.0873930566766115,
          -2.0588119884796594,
          -0.6231006068536142
         ],
         "y": [
          1.1220012104334112,
          1.0624269195344458,
          -0.738459537284999,
          1.1085422595059111,
          -1.5274267208247934,
          -0.9776296565249833,
          -1.0779836152260325,
          -0.32208890266056567,
          0.03883424685939996,
          1.2660883840552661,
          -1.5546760937371964,
          0.2088525327333978,
          -0.6749883397629852,
          -0.15003926151727054,
          -0.10300827640612198,
          -0.26744941274228995,
          0.9488074761931823,
          0.8623001147465386,
          0.3726086500178088,
          0.4233570408290309,
          -1.4596770604989313,
          -0.15383500211475115,
          -0.6259067048852625,
          2.3697371249067474,
          -0.26070794134726216,
          0.5314785122670811,
          -0.19200439646708178,
          -0.7678050213538229,
          -0.017900553527080268,
          -1.4349374455975779,
          0.14141307772202685,
          -0.8149107245170953,
          2.205610814459267,
          0.5930973769175418,
          -0.7347783670247324,
          -0.28496112516796346,
          -0.5359699945368162,
          -0.5653605046070167,
          -1.4769832840952613,
          1.9139729667200795,
          0.8150682245643799,
          0.8516053434826723,
          -0.4083351779699479,
          -1.4567152419227576,
          1.3881943501900356,
          0.19772784835329882,
          -0.9603739438193805,
          1.4105262721844647,
          -0.6051250651368585,
          0.3177866246008616
         ],
         "z": [
          0.15469658098914552,
          -0.43417545430389265,
          -0.8262642398016142,
          -0.1809735542211393,
          -0.3385592400160118,
          0.001450164173316365,
          -0.11727873645334769,
          -0.8731133153974088,
          -0.0953170415226181,
          1.0659744588473017,
          0.8937331978750696,
          -0.49408785159678364,
          -0.12079491586292934,
          0.4203975950937372,
          0.017379469861879993,
          0.20442103401250777,
          0.6638172373874953,
          0.4501577911600926,
          -0.3271385286520243,
          -0.553450589329408,
          -0.1777939020989264,
          0.10134312792246725,
          0.06664031618625144,
          0.21334204861575512,
          0.22355481098436603,
          0.122498554824023,
          0.01573315623291871,
          0.31135443606152785,
          -0.032804290562179705,
          0.24093658013600838,
          -0.3361211126601711,
          -0.013348844151055639,
          -0.9447896484903583,
          -0.25143462606619926,
          0.4691528165192262,
          0.010228475725705732,
          -0.23539087176867585,
          0.3554523776666562,
          -0.6074027463330854,
          -0.1301453779150219,
          -0.10847051233123195,
          0.6463026740615031,
          0.6367310508801592,
          -0.08148674917430793,
          -0.1434336967151415,
          0.2092464294969558,
          -0.21862816090583687,
          0.13058308014500475,
          0.1822534072003138,
          -0.16497686573002557
         ]
        }
       ],
       "layout": {
        "legend": {
         "tracegroupgap": 0
        },
        "margin": {
         "t": 60
        },
        "scene": {
         "domain": {
          "x": [
           0,
           1
          ],
          "y": [
           0,
           1
          ]
         },
         "xaxis": {
          "title": {
           "text": "F1"
          }
         },
         "yaxis": {
          "title": {
           "text": "F2"
          }
         },
         "zaxis": {
          "title": {
           "text": "F3"
          }
         }
        },
        "template": {
         "data": {
          "bar": [
           {
            "error_x": {
             "color": "#2a3f5f"
            },
            "error_y": {
             "color": "#2a3f5f"
            },
            "marker": {
             "line": {
              "color": "#E5ECF6",
              "width": 0.5
             },
             "pattern": {
              "fillmode": "overlay",
              "size": 10,
              "solidity": 0.2
             }
            },
            "type": "bar"
           }
          ],
          "barpolar": [
           {
            "marker": {
             "line": {
              "color": "#E5ECF6",
              "width": 0.5
             },
             "pattern": {
              "fillmode": "overlay",
              "size": 10,
              "solidity": 0.2
             }
            },
            "type": "barpolar"
           }
          ],
          "carpet": [
           {
            "aaxis": {
             "endlinecolor": "#2a3f5f",
             "gridcolor": "white",
             "linecolor": "white",
             "minorgridcolor": "white",
             "startlinecolor": "#2a3f5f"
            },
            "baxis": {
             "endlinecolor": "#2a3f5f",
             "gridcolor": "white",
             "linecolor": "white",
             "minorgridcolor": "white",
             "startlinecolor": "#2a3f5f"
            },
            "type": "carpet"
           }
          ],
          "choropleth": [
           {
            "colorbar": {
             "outlinewidth": 0,
             "ticks": ""
            },
            "type": "choropleth"
           }
          ],
          "contour": [
           {
            "colorbar": {
             "outlinewidth": 0,
             "ticks": ""
            },
            "colorscale": [
             [
              0,
              "#0d0887"
             ],
             [
              0.1111111111111111,
              "#46039f"
             ],
             [
              0.2222222222222222,
              "#7201a8"
             ],
             [
              0.3333333333333333,
              "#9c179e"
             ],
             [
              0.4444444444444444,
              "#bd3786"
             ],
             [
              0.5555555555555556,
              "#d8576b"
             ],
             [
              0.6666666666666666,
              "#ed7953"
             ],
             [
              0.7777777777777778,
              "#fb9f3a"
             ],
             [
              0.8888888888888888,
              "#fdca26"
             ],
             [
              1,
              "#f0f921"
             ]
            ],
            "type": "contour"
           }
          ],
          "contourcarpet": [
           {
            "colorbar": {
             "outlinewidth": 0,
             "ticks": ""
            },
            "type": "contourcarpet"
           }
          ],
          "heatmap": [
           {
            "colorbar": {
             "outlinewidth": 0,
             "ticks": ""
            },
            "colorscale": [
             [
              0,
              "#0d0887"
             ],
             [
              0.1111111111111111,
              "#46039f"
             ],
             [
              0.2222222222222222,
              "#7201a8"
             ],
             [
              0.3333333333333333,
              "#9c179e"
             ],
             [
              0.4444444444444444,
              "#bd3786"
             ],
             [
              0.5555555555555556,
              "#d8576b"
             ],
             [
              0.6666666666666666,
              "#ed7953"
             ],
             [
              0.7777777777777778,
              "#fb9f3a"
             ],
             [
              0.8888888888888888,
              "#fdca26"
             ],
             [
              1,
              "#f0f921"
             ]
            ],
            "type": "heatmap"
           }
          ],
          "heatmapgl": [
           {
            "colorbar": {
             "outlinewidth": 0,
             "ticks": ""
            },
            "colorscale": [
             [
              0,
              "#0d0887"
             ],
             [
              0.1111111111111111,
              "#46039f"
             ],
             [
              0.2222222222222222,
              "#7201a8"
             ],
             [
              0.3333333333333333,
              "#9c179e"
             ],
             [
              0.4444444444444444,
              "#bd3786"
             ],
             [
              0.5555555555555556,
              "#d8576b"
             ],
             [
              0.6666666666666666,
              "#ed7953"
             ],
             [
              0.7777777777777778,
              "#fb9f3a"
             ],
             [
              0.8888888888888888,
              "#fdca26"
             ],
             [
              1,
              "#f0f921"
             ]
            ],
            "type": "heatmapgl"
           }
          ],
          "histogram": [
           {
            "marker": {
             "pattern": {
              "fillmode": "overlay",
              "size": 10,
              "solidity": 0.2
             }
            },
            "type": "histogram"
           }
          ],
          "histogram2d": [
           {
            "colorbar": {
             "outlinewidth": 0,
             "ticks": ""
            },
            "colorscale": [
             [
              0,
              "#0d0887"
             ],
             [
              0.1111111111111111,
              "#46039f"
             ],
             [
              0.2222222222222222,
              "#7201a8"
             ],
             [
              0.3333333333333333,
              "#9c179e"
             ],
             [
              0.4444444444444444,
              "#bd3786"
             ],
             [
              0.5555555555555556,
              "#d8576b"
             ],
             [
              0.6666666666666666,
              "#ed7953"
             ],
             [
              0.7777777777777778,
              "#fb9f3a"
             ],
             [
              0.8888888888888888,
              "#fdca26"
             ],
             [
              1,
              "#f0f921"
             ]
            ],
            "type": "histogram2d"
           }
          ],
          "histogram2dcontour": [
           {
            "colorbar": {
             "outlinewidth": 0,
             "ticks": ""
            },
            "colorscale": [
             [
              0,
              "#0d0887"
             ],
             [
              0.1111111111111111,
              "#46039f"
             ],
             [
              0.2222222222222222,
              "#7201a8"
             ],
             [
              0.3333333333333333,
              "#9c179e"
             ],
             [
              0.4444444444444444,
              "#bd3786"
             ],
             [
              0.5555555555555556,
              "#d8576b"
             ],
             [
              0.6666666666666666,
              "#ed7953"
             ],
             [
              0.7777777777777778,
              "#fb9f3a"
             ],
             [
              0.8888888888888888,
              "#fdca26"
             ],
             [
              1,
              "#f0f921"
             ]
            ],
            "type": "histogram2dcontour"
           }
          ],
          "mesh3d": [
           {
            "colorbar": {
             "outlinewidth": 0,
             "ticks": ""
            },
            "type": "mesh3d"
           }
          ],
          "parcoords": [
           {
            "line": {
             "colorbar": {
              "outlinewidth": 0,
              "ticks": ""
             }
            },
            "type": "parcoords"
           }
          ],
          "pie": [
           {
            "automargin": true,
            "type": "pie"
           }
          ],
          "scatter": [
           {
            "fillpattern": {
             "fillmode": "overlay",
             "size": 10,
             "solidity": 0.2
            },
            "type": "scatter"
           }
          ],
          "scatter3d": [
           {
            "line": {
             "colorbar": {
              "outlinewidth": 0,
              "ticks": ""
             }
            },
            "marker": {
             "colorbar": {
              "outlinewidth": 0,
              "ticks": ""
             }
            },
            "type": "scatter3d"
           }
          ],
          "scattercarpet": [
           {
            "marker": {
             "colorbar": {
              "outlinewidth": 0,
              "ticks": ""
             }
            },
            "type": "scattercarpet"
           }
          ],
          "scattergeo": [
           {
            "marker": {
             "colorbar": {
              "outlinewidth": 0,
              "ticks": ""
             }
            },
            "type": "scattergeo"
           }
          ],
          "scattergl": [
           {
            "marker": {
             "colorbar": {
              "outlinewidth": 0,
              "ticks": ""
             }
            },
            "type": "scattergl"
           }
          ],
          "scattermapbox": [
           {
            "marker": {
             "colorbar": {
              "outlinewidth": 0,
              "ticks": ""
             }
            },
            "type": "scattermapbox"
           }
          ],
          "scatterpolar": [
           {
            "marker": {
             "colorbar": {
              "outlinewidth": 0,
              "ticks": ""
             }
            },
            "type": "scatterpolar"
           }
          ],
          "scatterpolargl": [
           {
            "marker": {
             "colorbar": {
              "outlinewidth": 0,
              "ticks": ""
             }
            },
            "type": "scatterpolargl"
           }
          ],
          "scatterternary": [
           {
            "marker": {
             "colorbar": {
              "outlinewidth": 0,
              "ticks": ""
             }
            },
            "type": "scatterternary"
           }
          ],
          "surface": [
           {
            "colorbar": {
             "outlinewidth": 0,
             "ticks": ""
            },
            "colorscale": [
             [
              0,
              "#0d0887"
             ],
             [
              0.1111111111111111,
              "#46039f"
             ],
             [
              0.2222222222222222,
              "#7201a8"
             ],
             [
              0.3333333333333333,
              "#9c179e"
             ],
             [
              0.4444444444444444,
              "#bd3786"
             ],
             [
              0.5555555555555556,
              "#d8576b"
             ],
             [
              0.6666666666666666,
              "#ed7953"
             ],
             [
              0.7777777777777778,
              "#fb9f3a"
             ],
             [
              0.8888888888888888,
              "#fdca26"
             ],
             [
              1,
              "#f0f921"
             ]
            ],
            "type": "surface"
           }
          ],
          "table": [
           {
            "cells": {
             "fill": {
              "color": "#EBF0F8"
             },
             "line": {
              "color": "white"
             }
            },
            "header": {
             "fill": {
              "color": "#C8D4E3"
             },
             "line": {
              "color": "white"
             }
            },
            "type": "table"
           }
          ]
         },
         "layout": {
          "annotationdefaults": {
           "arrowcolor": "#2a3f5f",
           "arrowhead": 0,
           "arrowwidth": 1
          },
          "autotypenumbers": "strict",
          "coloraxis": {
           "colorbar": {
            "outlinewidth": 0,
            "ticks": ""
           }
          },
          "colorscale": {
           "diverging": [
            [
             0,
             "#8e0152"
            ],
            [
             0.1,
             "#c51b7d"
            ],
            [
             0.2,
             "#de77ae"
            ],
            [
             0.3,
             "#f1b6da"
            ],
            [
             0.4,
             "#fde0ef"
            ],
            [
             0.5,
             "#f7f7f7"
            ],
            [
             0.6,
             "#e6f5d0"
            ],
            [
             0.7,
             "#b8e186"
            ],
            [
             0.8,
             "#7fbc41"
            ],
            [
             0.9,
             "#4d9221"
            ],
            [
             1,
             "#276419"
            ]
           ],
           "sequential": [
            [
             0,
             "#0d0887"
            ],
            [
             0.1111111111111111,
             "#46039f"
            ],
            [
             0.2222222222222222,
             "#7201a8"
            ],
            [
             0.3333333333333333,
             "#9c179e"
            ],
            [
             0.4444444444444444,
             "#bd3786"
            ],
            [
             0.5555555555555556,
             "#d8576b"
            ],
            [
             0.6666666666666666,
             "#ed7953"
            ],
            [
             0.7777777777777778,
             "#fb9f3a"
            ],
            [
             0.8888888888888888,
             "#fdca26"
            ],
            [
             1,
             "#f0f921"
            ]
           ],
           "sequentialminus": [
            [
             0,
             "#0d0887"
            ],
            [
             0.1111111111111111,
             "#46039f"
            ],
            [
             0.2222222222222222,
             "#7201a8"
            ],
            [
             0.3333333333333333,
             "#9c179e"
            ],
            [
             0.4444444444444444,
             "#bd3786"
            ],
            [
             0.5555555555555556,
             "#d8576b"
            ],
            [
             0.6666666666666666,
             "#ed7953"
            ],
            [
             0.7777777777777778,
             "#fb9f3a"
            ],
            [
             0.8888888888888888,
             "#fdca26"
            ],
            [
             1,
             "#f0f921"
            ]
           ]
          },
          "colorway": [
           "#636efa",
           "#EF553B",
           "#00cc96",
           "#ab63fa",
           "#FFA15A",
           "#19d3f3",
           "#FF6692",
           "#B6E880",
           "#FF97FF",
           "#FECB52"
          ],
          "font": {
           "color": "#2a3f5f"
          },
          "geo": {
           "bgcolor": "white",
           "lakecolor": "white",
           "landcolor": "#E5ECF6",
           "showlakes": true,
           "showland": true,
           "subunitcolor": "white"
          },
          "hoverlabel": {
           "align": "left"
          },
          "hovermode": "closest",
          "mapbox": {
           "style": "light"
          },
          "paper_bgcolor": "white",
          "plot_bgcolor": "#E5ECF6",
          "polar": {
           "angularaxis": {
            "gridcolor": "white",
            "linecolor": "white",
            "ticks": ""
           },
           "bgcolor": "#E5ECF6",
           "radialaxis": {
            "gridcolor": "white",
            "linecolor": "white",
            "ticks": ""
           }
          },
          "scene": {
           "xaxis": {
            "backgroundcolor": "#E5ECF6",
            "gridcolor": "white",
            "gridwidth": 2,
            "linecolor": "white",
            "showbackground": true,
            "ticks": "",
            "zerolinecolor": "white"
           },
           "yaxis": {
            "backgroundcolor": "#E5ECF6",
            "gridcolor": "white",
            "gridwidth": 2,
            "linecolor": "white",
            "showbackground": true,
            "ticks": "",
            "zerolinecolor": "white"
           },
           "zaxis": {
            "backgroundcolor": "#E5ECF6",
            "gridcolor": "white",
            "gridwidth": 2,
            "linecolor": "white",
            "showbackground": true,
            "ticks": "",
            "zerolinecolor": "white"
           }
          },
          "shapedefaults": {
           "line": {
            "color": "#2a3f5f"
           }
          },
          "ternary": {
           "aaxis": {
            "gridcolor": "white",
            "linecolor": "white",
            "ticks": ""
           },
           "baxis": {
            "gridcolor": "white",
            "linecolor": "white",
            "ticks": ""
           },
           "bgcolor": "#E5ECF6",
           "caxis": {
            "gridcolor": "white",
            "linecolor": "white",
            "ticks": ""
           }
          },
          "title": {
           "x": 0.05
          },
          "xaxis": {
           "automargin": true,
           "gridcolor": "white",
           "linecolor": "white",
           "ticks": "",
           "title": {
            "standoff": 15
           },
           "zerolinecolor": "white",
           "zerolinewidth": 2
          },
          "yaxis": {
           "automargin": true,
           "gridcolor": "white",
           "linecolor": "white",
           "ticks": "",
           "title": {
            "standoff": 15
           },
           "zerolinecolor": "white",
           "zerolinewidth": 2
          }
         }
        }
       }
      },
      "text/html": [
       "<div>                            <div id=\"b6161b2c-49b1-4877-9735-0f5e666403db\" class=\"plotly-graph-div\" style=\"height:525px; width:100%;\"></div>            <script type=\"text/javascript\">                require([\"plotly\"], function(Plotly) {                    window.PLOTLYENV=window.PLOTLYENV || {};                                    if (document.getElementById(\"b6161b2c-49b1-4877-9735-0f5e666403db\")) {                    Plotly.newPlot(                        \"b6161b2c-49b1-4877-9735-0f5e666403db\",                        [{\"hovertemplate\":\"F1=%{x}<br>F2=%{y}<br>F3=%{z}<extra></extra>\",\"legendgroup\":\"\",\"marker\":{\"color\":\"#636efa\",\"symbol\":\"circle\"},\"mode\":\"markers\",\"name\":\"\",\"scene\":\"scene\",\"showlegend\":false,\"x\":[0.975660448333606,1.930537878513684,1.745442853390599,-0.13999894434859428,2.4986128482585808,1.499340737465524,-1.3449923649468492,0.047229806346894665,2.9827596698505285,1.6228074182227474,-0.9034844794674848,-1.6233190333549077,1.3650519734476365,-0.5003812184673615,-2.230995785560024,-0.7888720624575064,-0.7433125605025745,1.5490907634214197,-2.3727401381114746,1.745646633314265,-0.48128007004107565,2.087250248902095,-1.6756695050968442,0.9864791853362929,0.6897842639943724,-1.1735375139692659,-1.2529162530451283,2.845505417984771,-2.3599558521098043,0.1797412783117736,1.9601235131682242,1.6656666217224794,1.1120880825676012,-2.9621522325069076,-0.22369435549765587,-0.30864927945471465,0.05852786998113052,-0.8794867951994906,-0.8550907170076971,1.3074498608537146,-1.9677966936869937,0.9896937743255939,1.3415183816678153,-0.545031802555006,-2.7732561335497175,-0.09536669660002126,-0.2147233898343467,-2.0873930566766115,-2.0588119884796594,-0.6231006068536142],\"y\":[1.1220012104334112,1.0624269195344458,-0.738459537284999,1.1085422595059111,-1.5274267208247934,-0.9776296565249833,-1.0779836152260325,-0.32208890266056567,0.03883424685939996,1.2660883840552661,-1.5546760937371964,0.2088525327333978,-0.6749883397629852,-0.15003926151727054,-0.10300827640612198,-0.26744941274228995,0.9488074761931823,0.8623001147465386,0.3726086500178088,0.4233570408290309,-1.4596770604989313,-0.15383500211475115,-0.6259067048852625,2.3697371249067474,-0.26070794134726216,0.5314785122670811,-0.19200439646708178,-0.7678050213538229,-0.017900553527080268,-1.4349374455975779,0.14141307772202685,-0.8149107245170953,2.205610814459267,0.5930973769175418,-0.7347783670247324,-0.28496112516796346,-0.5359699945368162,-0.5653605046070167,-1.4769832840952613,1.9139729667200795,0.8150682245643799,0.8516053434826723,-0.4083351779699479,-1.4567152419227576,1.3881943501900356,0.19772784835329882,-0.9603739438193805,1.4105262721844647,-0.6051250651368585,0.3177866246008616],\"z\":[0.15469658098914552,-0.43417545430389265,-0.8262642398016142,-0.1809735542211393,-0.3385592400160118,0.001450164173316365,-0.11727873645334769,-0.8731133153974088,-0.0953170415226181,1.0659744588473017,0.8937331978750696,-0.49408785159678364,-0.12079491586292934,0.4203975950937372,0.017379469861879993,0.20442103401250777,0.6638172373874953,0.4501577911600926,-0.3271385286520243,-0.553450589329408,-0.1777939020989264,0.10134312792246725,0.06664031618625144,0.21334204861575512,0.22355481098436603,0.122498554824023,0.01573315623291871,0.31135443606152785,-0.032804290562179705,0.24093658013600838,-0.3361211126601711,-0.013348844151055639,-0.9447896484903583,-0.25143462606619926,0.4691528165192262,0.010228475725705732,-0.23539087176867585,0.3554523776666562,-0.6074027463330854,-0.1301453779150219,-0.10847051233123195,0.6463026740615031,0.6367310508801592,-0.08148674917430793,-0.1434336967151415,0.2092464294969558,-0.21862816090583687,0.13058308014500475,0.1822534072003138,-0.16497686573002557],\"type\":\"scatter3d\"}],                        {\"template\":{\"data\":{\"histogram2dcontour\":[{\"type\":\"histogram2dcontour\",\"colorbar\":{\"outlinewidth\":0,\"ticks\":\"\"},\"colorscale\":[[0.0,\"#0d0887\"],[0.1111111111111111,\"#46039f\"],[0.2222222222222222,\"#7201a8\"],[0.3333333333333333,\"#9c179e\"],[0.4444444444444444,\"#bd3786\"],[0.5555555555555556,\"#d8576b\"],[0.6666666666666666,\"#ed7953\"],[0.7777777777777778,\"#fb9f3a\"],[0.8888888888888888,\"#fdca26\"],[1.0,\"#f0f921\"]]}],\"choropleth\":[{\"type\":\"choropleth\",\"colorbar\":{\"outlinewidth\":0,\"ticks\":\"\"}}],\"histogram2d\":[{\"type\":\"histogram2d\",\"colorbar\":{\"outlinewidth\":0,\"ticks\":\"\"},\"colorscale\":[[0.0,\"#0d0887\"],[0.1111111111111111,\"#46039f\"],[0.2222222222222222,\"#7201a8\"],[0.3333333333333333,\"#9c179e\"],[0.4444444444444444,\"#bd3786\"],[0.5555555555555556,\"#d8576b\"],[0.6666666666666666,\"#ed7953\"],[0.7777777777777778,\"#fb9f3a\"],[0.8888888888888888,\"#fdca26\"],[1.0,\"#f0f921\"]]}],\"heatmap\":[{\"type\":\"heatmap\",\"colorbar\":{\"outlinewidth\":0,\"ticks\":\"\"},\"colorscale\":[[0.0,\"#0d0887\"],[0.1111111111111111,\"#46039f\"],[0.2222222222222222,\"#7201a8\"],[0.3333333333333333,\"#9c179e\"],[0.4444444444444444,\"#bd3786\"],[0.5555555555555556,\"#d8576b\"],[0.6666666666666666,\"#ed7953\"],[0.7777777777777778,\"#fb9f3a\"],[0.8888888888888888,\"#fdca26\"],[1.0,\"#f0f921\"]]}],\"heatmapgl\":[{\"type\":\"heatmapgl\",\"colorbar\":{\"outlinewidth\":0,\"ticks\":\"\"},\"colorscale\":[[0.0,\"#0d0887\"],[0.1111111111111111,\"#46039f\"],[0.2222222222222222,\"#7201a8\"],[0.3333333333333333,\"#9c179e\"],[0.4444444444444444,\"#bd3786\"],[0.5555555555555556,\"#d8576b\"],[0.6666666666666666,\"#ed7953\"],[0.7777777777777778,\"#fb9f3a\"],[0.8888888888888888,\"#fdca26\"],[1.0,\"#f0f921\"]]}],\"contourcarpet\":[{\"type\":\"contourcarpet\",\"colorbar\":{\"outlinewidth\":0,\"ticks\":\"\"}}],\"contour\":[{\"type\":\"contour\",\"colorbar\":{\"outlinewidth\":0,\"ticks\":\"\"},\"colorscale\":[[0.0,\"#0d0887\"],[0.1111111111111111,\"#46039f\"],[0.2222222222222222,\"#7201a8\"],[0.3333333333333333,\"#9c179e\"],[0.4444444444444444,\"#bd3786\"],[0.5555555555555556,\"#d8576b\"],[0.6666666666666666,\"#ed7953\"],[0.7777777777777778,\"#fb9f3a\"],[0.8888888888888888,\"#fdca26\"],[1.0,\"#f0f921\"]]}],\"surface\":[{\"type\":\"surface\",\"colorbar\":{\"outlinewidth\":0,\"ticks\":\"\"},\"colorscale\":[[0.0,\"#0d0887\"],[0.1111111111111111,\"#46039f\"],[0.2222222222222222,\"#7201a8\"],[0.3333333333333333,\"#9c179e\"],[0.4444444444444444,\"#bd3786\"],[0.5555555555555556,\"#d8576b\"],[0.6666666666666666,\"#ed7953\"],[0.7777777777777778,\"#fb9f3a\"],[0.8888888888888888,\"#fdca26\"],[1.0,\"#f0f921\"]]}],\"mesh3d\":[{\"type\":\"mesh3d\",\"colorbar\":{\"outlinewidth\":0,\"ticks\":\"\"}}],\"scatter\":[{\"fillpattern\":{\"fillmode\":\"overlay\",\"size\":10,\"solidity\":0.2},\"type\":\"scatter\"}],\"parcoords\":[{\"type\":\"parcoords\",\"line\":{\"colorbar\":{\"outlinewidth\":0,\"ticks\":\"\"}}}],\"scatterpolargl\":[{\"type\":\"scatterpolargl\",\"marker\":{\"colorbar\":{\"outlinewidth\":0,\"ticks\":\"\"}}}],\"bar\":[{\"error_x\":{\"color\":\"#2a3f5f\"},\"error_y\":{\"color\":\"#2a3f5f\"},\"marker\":{\"line\":{\"color\":\"#E5ECF6\",\"width\":0.5},\"pattern\":{\"fillmode\":\"overlay\",\"size\":10,\"solidity\":0.2}},\"type\":\"bar\"}],\"scattergeo\":[{\"type\":\"scattergeo\",\"marker\":{\"colorbar\":{\"outlinewidth\":0,\"ticks\":\"\"}}}],\"scatterpolar\":[{\"type\":\"scatterpolar\",\"marker\":{\"colorbar\":{\"outlinewidth\":0,\"ticks\":\"\"}}}],\"histogram\":[{\"marker\":{\"pattern\":{\"fillmode\":\"overlay\",\"size\":10,\"solidity\":0.2}},\"type\":\"histogram\"}],\"scattergl\":[{\"type\":\"scattergl\",\"marker\":{\"colorbar\":{\"outlinewidth\":0,\"ticks\":\"\"}}}],\"scatter3d\":[{\"type\":\"scatter3d\",\"line\":{\"colorbar\":{\"outlinewidth\":0,\"ticks\":\"\"}},\"marker\":{\"colorbar\":{\"outlinewidth\":0,\"ticks\":\"\"}}}],\"scattermapbox\":[{\"type\":\"scattermapbox\",\"marker\":{\"colorbar\":{\"outlinewidth\":0,\"ticks\":\"\"}}}],\"scatterternary\":[{\"type\":\"scatterternary\",\"marker\":{\"colorbar\":{\"outlinewidth\":0,\"ticks\":\"\"}}}],\"scattercarpet\":[{\"type\":\"scattercarpet\",\"marker\":{\"colorbar\":{\"outlinewidth\":0,\"ticks\":\"\"}}}],\"carpet\":[{\"aaxis\":{\"endlinecolor\":\"#2a3f5f\",\"gridcolor\":\"white\",\"linecolor\":\"white\",\"minorgridcolor\":\"white\",\"startlinecolor\":\"#2a3f5f\"},\"baxis\":{\"endlinecolor\":\"#2a3f5f\",\"gridcolor\":\"white\",\"linecolor\":\"white\",\"minorgridcolor\":\"white\",\"startlinecolor\":\"#2a3f5f\"},\"type\":\"carpet\"}],\"table\":[{\"cells\":{\"fill\":{\"color\":\"#EBF0F8\"},\"line\":{\"color\":\"white\"}},\"header\":{\"fill\":{\"color\":\"#C8D4E3\"},\"line\":{\"color\":\"white\"}},\"type\":\"table\"}],\"barpolar\":[{\"marker\":{\"line\":{\"color\":\"#E5ECF6\",\"width\":0.5},\"pattern\":{\"fillmode\":\"overlay\",\"size\":10,\"solidity\":0.2}},\"type\":\"barpolar\"}],\"pie\":[{\"automargin\":true,\"type\":\"pie\"}]},\"layout\":{\"autotypenumbers\":\"strict\",\"colorway\":[\"#636efa\",\"#EF553B\",\"#00cc96\",\"#ab63fa\",\"#FFA15A\",\"#19d3f3\",\"#FF6692\",\"#B6E880\",\"#FF97FF\",\"#FECB52\"],\"font\":{\"color\":\"#2a3f5f\"},\"hovermode\":\"closest\",\"hoverlabel\":{\"align\":\"left\"},\"paper_bgcolor\":\"white\",\"plot_bgcolor\":\"#E5ECF6\",\"polar\":{\"bgcolor\":\"#E5ECF6\",\"angularaxis\":{\"gridcolor\":\"white\",\"linecolor\":\"white\",\"ticks\":\"\"},\"radialaxis\":{\"gridcolor\":\"white\",\"linecolor\":\"white\",\"ticks\":\"\"}},\"ternary\":{\"bgcolor\":\"#E5ECF6\",\"aaxis\":{\"gridcolor\":\"white\",\"linecolor\":\"white\",\"ticks\":\"\"},\"baxis\":{\"gridcolor\":\"white\",\"linecolor\":\"white\",\"ticks\":\"\"},\"caxis\":{\"gridcolor\":\"white\",\"linecolor\":\"white\",\"ticks\":\"\"}},\"coloraxis\":{\"colorbar\":{\"outlinewidth\":0,\"ticks\":\"\"}},\"colorscale\":{\"sequential\":[[0.0,\"#0d0887\"],[0.1111111111111111,\"#46039f\"],[0.2222222222222222,\"#7201a8\"],[0.3333333333333333,\"#9c179e\"],[0.4444444444444444,\"#bd3786\"],[0.5555555555555556,\"#d8576b\"],[0.6666666666666666,\"#ed7953\"],[0.7777777777777778,\"#fb9f3a\"],[0.8888888888888888,\"#fdca26\"],[1.0,\"#f0f921\"]],\"sequentialminus\":[[0.0,\"#0d0887\"],[0.1111111111111111,\"#46039f\"],[0.2222222222222222,\"#7201a8\"],[0.3333333333333333,\"#9c179e\"],[0.4444444444444444,\"#bd3786\"],[0.5555555555555556,\"#d8576b\"],[0.6666666666666666,\"#ed7953\"],[0.7777777777777778,\"#fb9f3a\"],[0.8888888888888888,\"#fdca26\"],[1.0,\"#f0f921\"]],\"diverging\":[[0,\"#8e0152\"],[0.1,\"#c51b7d\"],[0.2,\"#de77ae\"],[0.3,\"#f1b6da\"],[0.4,\"#fde0ef\"],[0.5,\"#f7f7f7\"],[0.6,\"#e6f5d0\"],[0.7,\"#b8e186\"],[0.8,\"#7fbc41\"],[0.9,\"#4d9221\"],[1,\"#276419\"]]},\"xaxis\":{\"gridcolor\":\"white\",\"linecolor\":\"white\",\"ticks\":\"\",\"title\":{\"standoff\":15},\"zerolinecolor\":\"white\",\"automargin\":true,\"zerolinewidth\":2},\"yaxis\":{\"gridcolor\":\"white\",\"linecolor\":\"white\",\"ticks\":\"\",\"title\":{\"standoff\":15},\"zerolinecolor\":\"white\",\"automargin\":true,\"zerolinewidth\":2},\"scene\":{\"xaxis\":{\"backgroundcolor\":\"#E5ECF6\",\"gridcolor\":\"white\",\"linecolor\":\"white\",\"showbackground\":true,\"ticks\":\"\",\"zerolinecolor\":\"white\",\"gridwidth\":2},\"yaxis\":{\"backgroundcolor\":\"#E5ECF6\",\"gridcolor\":\"white\",\"linecolor\":\"white\",\"showbackground\":true,\"ticks\":\"\",\"zerolinecolor\":\"white\",\"gridwidth\":2},\"zaxis\":{\"backgroundcolor\":\"#E5ECF6\",\"gridcolor\":\"white\",\"linecolor\":\"white\",\"showbackground\":true,\"ticks\":\"\",\"zerolinecolor\":\"white\",\"gridwidth\":2}},\"shapedefaults\":{\"line\":{\"color\":\"#2a3f5f\"}},\"annotationdefaults\":{\"arrowcolor\":\"#2a3f5f\",\"arrowhead\":0,\"arrowwidth\":1},\"geo\":{\"bgcolor\":\"white\",\"landcolor\":\"#E5ECF6\",\"subunitcolor\":\"white\",\"showland\":true,\"showlakes\":true,\"lakecolor\":\"white\"},\"title\":{\"x\":0.05},\"mapbox\":{\"style\":\"light\"}}},\"scene\":{\"domain\":{\"x\":[0.0,1.0],\"y\":[0.0,1.0]},\"xaxis\":{\"title\":{\"text\":\"F1\"}},\"yaxis\":{\"title\":{\"text\":\"F2\"}},\"zaxis\":{\"title\":{\"text\":\"F3\"}}},\"legend\":{\"tracegroupgap\":0},\"margin\":{\"t\":60}},                        {\"responsive\": true}                    ).then(function(){\n",
       "                            \n",
       "var gd = document.getElementById('b6161b2c-49b1-4877-9735-0f5e666403db');\n",
       "var x = new MutationObserver(function (mutations, observer) {{\n",
       "        var display = window.getComputedStyle(gd).display;\n",
       "        if (!display || display === 'none') {{\n",
       "            console.log([gd, 'removed!']);\n",
       "            Plotly.purge(gd);\n",
       "            observer.disconnect();\n",
       "        }}\n",
       "}});\n",
       "\n",
       "// Listen for the removal of the full notebook cells\n",
       "var notebookContainer = gd.closest('#notebook-container');\n",
       "if (notebookContainer) {{\n",
       "    x.observe(notebookContainer, {childList: true});\n",
       "}}\n",
       "\n",
       "// Listen for the clearing of the current output cell\n",
       "var outputEl = gd.closest('.output');\n",
       "if (outputEl) {{\n",
       "    x.observe(outputEl, {childList: true});\n",
       "}}\n",
       "\n",
       "                        })                };                });            </script>        </div>"
      ]
     },
     "metadata": {},
     "output_type": "display_data"
    }
   ],
   "source": [
    "fig=px.scatter_3d(df, x=\"F1\", y=\"F2\", z=\"F3\")\n",
    "fig.show()"
   ]
  },
  {
   "cell_type": "markdown",
   "id": "875fe08a",
   "metadata": {},
   "source": [
    "# Evaluation de notre implémentation de l'ACP contre PCA définie dans la bibliothèque scikit-learn"
   ]
  },
  {
   "cell_type": "code",
   "execution_count": 135,
   "id": "ee9760d0",
   "metadata": {},
   "outputs": [],
   "source": [
    "pca = PCA(n_components=2)"
   ]
  },
  {
   "cell_type": "code",
   "execution_count": 139,
   "id": "fdac6d8c",
   "metadata": {},
   "outputs": [
    {
     "data": {
      "image/png": "[encoded data removed]",
      "text/plain": [
       "<Figure size 600x600 with 3 Axes>"
      ]
     },
     "metadata": {},
     "output_type": "display_data"
    }
   ],
   "source": [
    "SC=StandardScaler()\n",
    "d=SC.fit_transform(data)\n",
    "d = pca.fit_transform(d)\n",
    "df1= pd.DataFrame(d, columns=[\"F1\", \"F2\"])\n",
    "sns.jointplot(data=df1,x=\"F1\",y=\"F2\");"
   ]
  }
 ],
 "metadata": {
  "kernelspec": {
   "display_name": "Python 3 (ipykernel)",
   "language": "python",
   "name": "python3"
  },
  "language_info": {
   "codemirror_mode": {
    "name": "ipython",
    "version": 3
   },
   "file_extension": ".py",
   "mimetype": "text/x-python",
   "name": "python",
   "nbconvert_exporter": "python",
   "pygments_lexer": "ipython3",
   "version": "3.10.9"
  }
 },
 "nbformat": 4,
 "nbformat_minor": 5
}
